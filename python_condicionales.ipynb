{
 "cells": [
  {
   "cell_type": "code",
   "execution_count": 1,
   "metadata": {},
   "outputs": [
    {
     "name": "stdout",
     "output_type": "stream",
     "text": [
      "Está entre 1 y 10\n"
     ]
    }
   ],
   "source": [
    "#Crea una variable numérica y si esta entre 0 y 10, mostrar un mensaje indicándolo.\n",
    "a = 5 \n",
    "if(a>=1 and a<=10):\n",
    "    print(\"Está entre 1 y 10\") \n",
    "else:\n",
    "    print(\"No está en ese rango\")"
   ]
  },
  {
   "cell_type": "code",
   "execution_count": 2,
   "metadata": {},
   "outputs": [
    {
     "name": "stdout",
     "output_type": "stream",
     "text": [
      "No está en ese rango\n"
     ]
    }
   ],
   "source": [
    "#Añadir al ejercicio anterior, que si está entre 11 y 20 muestre otro mensaje diferente y si está entre 21 y 30 otro mensaje.\n",
    "a = 35 \n",
    "if(a>=1 and a<=10):\n",
    "    print(\"Está entre 1 y 10\")\n",
    "elif(a>=11 and a<=20):\n",
    "    print(\"Está entre 11 y 20\")\n",
    "elif(a>=21 and a<=30):\n",
    "    print(\"Está entre 21 y 30\")\n",
    "else: print(\"No está en ese rango\")"
   ]
  },
  {
   "cell_type": "code",
   "execution_count": 3,
   "metadata": {},
   "outputs": [
    {
     "name": "stdout",
     "output_type": "stream",
     "text": [
      "8\n"
     ]
    }
   ],
   "source": [
    "#elegir el mayor de 2 numeros\n",
    "def max(x,y):\n",
    "    if(x<y):\n",
    "        print (y)\n",
    "    elif(x>y):\n",
    "        print (x)\n",
    "    else:\n",
    "        print (0)\n",
    "max(7,8)"
   ]
  },
  {
   "cell_type": "code",
   "execution_count": 4,
   "metadata": {},
   "outputs": [
    {
     "name": "stdout",
     "output_type": "stream",
     "text": [
      "7\n"
     ]
    }
   ],
   "source": [
    "#hallar el mayor de 3 numeros\n",
    "def max_de_tres (n1, n2, n3):\n",
    "    if n1 > n2 and n1 > n3:\n",
    "        print (n1)\n",
    "    elif n2 > n1 and n2 > n3:\n",
    "        print (n2)\n",
    "    elif n3 > n1 and n3 > n2:\n",
    "        print (n3)\n",
    "    else:\n",
    "        print (\"Son iguales\")\n",
    "max_de_tres(1,3,7)"
   ]
  },
  {
   "cell_type": "code",
   "execution_count": 5,
   "metadata": {},
   "outputs": [
    {
     "data": {
      "text/plain": [
       "True"
      ]
     },
     "execution_count": 5,
     "metadata": {},
     "output_type": "execute_result"
    }
   ],
   "source": [
    "#para saber si es una vocal\n",
    "def es_vocal (x):\n",
    "    if x == \"a\" or x == \"e\" or x == \"i\" or x == \"o\" or x == \"u\":\n",
    "        return True\n",
    "    elif x == \"A\" or x == \"E\" or x == \"I\" or x == \"O\" or x == \"U\":\n",
    "        return True\n",
    "    else:\n",
    "        return False\n",
    "es_vocal(\"a\")"
   ]
  },
  {
   "cell_type": "code",
   "execution_count": 6,
   "metadata": {},
   "outputs": [
    {
     "name": "stdout",
     "output_type": "stream",
     "text": [
      "Dame una cadena: amor\n",
      "roma\n",
      "No es palíndromo\n"
     ]
    }
   ],
   "source": [
    "#Pide una cadena e indica si es un palíndromo o no. \n",
    "cadena1 = input(\"Dame una cadena: \") \n",
    "cadena_al_reves = cadena1[::-1] \n",
    "print(cadena_al_reves) \n",
    "\n",
    "if( cadena1 == cadena_al_reves ):\n",
    "    print(\"Es palíndromo\") \n",
    "else: \n",
    "    print(\"No es palíndromo\")"
   ]
  },
  {
   "cell_type": "code",
   "execution_count": null,
   "metadata": {},
   "outputs": [],
   "source": []
  }
 ],
 "metadata": {
  "kernelspec": {
   "display_name": "Python 3",
   "language": "python",
   "name": "python3"
  },
  "language_info": {
   "codemirror_mode": {
    "name": "ipython",
    "version": 3
   },
   "file_extension": ".py",
   "mimetype": "text/x-python",
   "name": "python",
   "nbconvert_exporter": "python",
   "pygments_lexer": "ipython3",
   "version": "3.7.3"
  }
 },
 "nbformat": 4,
 "nbformat_minor": 2
}
